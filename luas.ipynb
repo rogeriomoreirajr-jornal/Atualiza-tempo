{
 "cells": [
  {
   "cell_type": "code",
   "execution_count": 1,
   "metadata": {
    "ExecuteTime": {
     "end_time": "2018-12-26T18:44:40.844474Z",
     "start_time": "2018-12-26T18:44:16.058728Z"
    },
    "code_folding": []
   },
   "outputs": [],
   "source": [
    "import pandas as pd\n",
    "import numpy as np\n",
    "from bs4 import BeautifulSoup\n",
    "import requests\n",
    "import matplotlib.pyplot as plt\n",
    "import re\n",
    "from time import sleep\n",
    "import unicodedata\n",
    "import os\n",
    "from datetime import datetime\n",
    "import locale\n",
    "\n",
    "s = requests.Session()\n",
    "\n",
    "senha = open(u'\\\\\\\\172.20.0.45\\\\jornalismo novo\\_Utilit\\xe1rios\\password.txt').read()\n",
    "\n",
    "proxy = ({\n",
    "    'http':'http://rogerio.moreira:{}@172.20.0.75:8080'.format(senha),\n",
    "\t'https':'https://rogerio.moreira:{}@172.20.0.75:8080'.format(senha)\n",
    "\t})\n",
    "\n",
    "def clip(df, **kwargs):\n",
    "\treturn df.to_clipboard(float_format=CommaFloatFormatter(), sep='\\t', **kwargs)\n",
    "\n",
    "class CommaFloatFormatter:\n",
    "\tdef __mod__(self, x):\n",
    "\t\treturn str(x).replace('.',',')\n",
    "\n",
    "def make_soup(url):\n",
    "    html = s.get(url, proxies=proxy, headers={'User-Agent': 'Mozilla/5.0 (Macintosh; Intel Mac OS X 10_10_0) AppleWebKit/537.36 (KHTML, like Gecko) Chrome/38.0.2125.111 Safari/537.36'})\n",
    "    soup = BeautifulSoup(html.content, \"html5lib\")\n",
    "    return soup\n",
    "\n",
    "\n",
    "locale.setlocale(locale.LC_TIME, \"ptb\")\n",
    "\n",
    "site = 'http://www.iag.usp.br/astronomia/datas-de-mudanca-das-fases-da-lua'\n",
    "\n",
    "os.chdir(r'C:\\Users\\rogerio.moreira\\Desktop')\n",
    "\n",
    "soup = make_soup(site)"
   ]
  },
  {
   "cell_type": "code",
   "execution_count": 5,
   "metadata": {
    "ExecuteTime": {
     "end_time": "2018-12-26T18:46:04.732444Z",
     "start_time": "2018-12-26T18:46:04.585445Z"
    }
   },
   "outputs": [],
   "source": [
    "\"\"\"\n",
    "Quero uma tabela no formato:\n",
    "\n",
    "dia (datetime) | lua | str para tempo\n",
    "\"\"\"\n",
    "\n",
    "def td(str_):\n",
    "    if len(str_)<2 and str_!= '': str_='0'+str_\n",
    "#     if re.match('^\\d$',str_): str_='0'+str_\n",
    "    return str_.title()\n",
    "\n",
    "luas = ['Nova','Crescente','Cheia','Minguante']\n",
    "\n",
    "l_ = []\n",
    "\n",
    "for ano in [2018, 2019]:\n",
    "    l = []\n",
    "\n",
    "    tabela = soup.find('th', text=ano).parent.parent.parent\n",
    "\n",
    "    linhas = tabela.findAll('tr')\n",
    "\n",
    "    for linha in linhas:\n",
    "        i = 0\n",
    "        datas = ' '.join([td(el.text) for el in linha.findAll('td')]).split(' 0\\xa0 ')\n",
    "        l_datas = [el for el in datas if len(el)>2]\n",
    "        if len(l_datas) > 0: l.extend(l_datas)\n",
    "\n",
    "    i = 0\n",
    "    if ano == 2018:\n",
    "        i = 2\n",
    "\n",
    "    for el in l:\n",
    "        if el != '0\\xa0 0\\xa0':\n",
    "            dt = datetime.strptime(el, '%b %d %H %M').replace(year=ano)\n",
    "            dt_ = dt.strftime('%d de %B, %H:%M')\n",
    "            l_.append([dt, luas[i], dt_])\n",
    "            if i<3: i+=1\n",
    "            else: i=0\n",
    "        \n",
    "os.chdir('S:\\# Robôs\\Tempo\\# script')\n",
    "        \n",
    "pd.DataFrame(l_, columns = ['datetime', 'fase', 'texto']).to_csv('lua-datetime.csv', index=False, sep='\\t')"
   ]
  }
 ],
 "metadata": {
  "kernelspec": {
   "display_name": "Python 3",
   "language": "python",
   "name": "python3"
  },
  "language_info": {
   "codemirror_mode": {
    "name": "ipython",
    "version": 3
   },
   "file_extension": ".py",
   "mimetype": "text/x-python",
   "name": "python",
   "nbconvert_exporter": "python",
   "pygments_lexer": "ipython3",
   "version": "3.6.5"
  },
  "toc": {
   "base_numbering": 1,
   "nav_menu": {},
   "number_sections": true,
   "sideBar": true,
   "skip_h1_title": false,
   "title_cell": "Table of Contents",
   "title_sidebar": "Contents",
   "toc_cell": false,
   "toc_position": {},
   "toc_section_display": true,
   "toc_window_display": false
  }
 },
 "nbformat": 4,
 "nbformat_minor": 2
}
